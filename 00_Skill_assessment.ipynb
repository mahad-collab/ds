{
  "nbformat": 4,
  "nbformat_minor": 0,
  "metadata": {
    "colab": {
      "provenance": [],
      "include_colab_link": true
    },
    "kernelspec": {
      "name": "python3",
      "display_name": "Python 3"
    },
    "language_info": {
      "name": "python"
    }
  },
  "cells": [
    {
      "cell_type": "markdown",
      "metadata": {
        "id": "view-in-github",
        "colab_type": "text"
      },
      "source": [
        "<a href=\"https://colab.research.google.com/github/mahad-collab/ds/blob/main/00_Skill_assessment.ipynb\" target=\"_parent\"><img src=\"https://colab.research.google.com/assets/colab-badge.svg\" alt=\"Open In Colab\"/></a>"
      ]
    },
    {
      "cell_type": "markdown",
      "source": [
        "# How much do you already know, or can work out?\n",
        "\n",
        "The following 10 exercises and challenge are designed to help you, and us to get an idea of how much you already know.  \n",
        "\n",
        "If you can do the exercise without help or need to look anything up, you can type the code into the code cell, click the play button (top left) and run the code to get the expected output.  \n",
        "\n",
        "If you think you can work it out without too much help, you could use [w3schools](https://www.w3schools.com/python/default.asp) as a reference tool and look things up (if you have never come across Python but have done some coding before, in another language, this will be very possible).  \n",
        "\n",
        "If you have never done any coding, in any language, and are nervous about having a go, then you could do one of our introductory worksheets.  \n",
        "\n",
        "### See how far you can get here"
      ],
      "metadata": {
        "id": "zDFqeDzGfxX4"
      }
    },
    {
      "cell_type": "markdown",
      "metadata": {
        "id": "-vVXrDTXbDzp"
      },
      "source": [
        "### Exercise 1 - printing\n",
        "---\n",
        "Print \"hello world\"\n",
        "\n",
        "**Expected Output**  \n",
        "hello world"
      ]
    },
    {
      "cell_type": "code",
      "source": [
        "# prompt: print(\"hello world\")\n",
        "\n",
        "print(\"hello world\")\n"
      ],
      "metadata": {
        "colab": {
          "base_uri": "https://localhost:8080/"
        },
        "id": "Hj9MFiMxVs1s",
        "outputId": "e9caecf7-8d7a-42da-af65-ebd4c6b485b8"
      },
      "execution_count": 4,
      "outputs": [
        {
          "output_type": "stream",
          "name": "stdout",
          "text": [
            "hello world\n"
          ]
        }
      ]
    },
    {
      "cell_type": "code",
      "metadata": {
        "id": "Z_Jc0SncbEkM",
        "colab": {
          "base_uri": "https://localhost:8080/"
        },
        "outputId": "4c9909e1-596a-4b93-e809-5b2a82d01c08"
      },
      "source": [
        "print(\"hello world\")\n"
      ],
      "execution_count": 5,
      "outputs": [
        {
          "output_type": "stream",
          "name": "stdout",
          "text": [
            "hello world\n"
          ]
        }
      ]
    },
    {
      "cell_type": "markdown",
      "metadata": {
        "id": "n-u42LuZbPc2"
      },
      "source": [
        "### Exercise 2 - using input\n",
        "---\n",
        "Create an input that asks for the user's name, stores it in a variable called name, then will `print` it\n",
        "\n",
        "**Test Input**  \n",
        "Marianne\n",
        "\n",
        "**Expected Output**  \n",
        "Marianne"
      ]
    },
    {
      "cell_type": "code",
      "metadata": {
        "id": "02KvhKPdbZW-",
        "colab": {
          "base_uri": "https://localhost:8080/",
          "height": 52
        },
        "outputId": "31a54ad5-06e5-4a93-ddcc-0ef18392106f"
      },
      "source": [
        "# prompt: create an input that asks for the user's name, stores it in a variable variable called name,then will print it\n",
        "\n",
        "name = input(\"Enter your name here\")\n",
        "name\n"
      ],
      "execution_count": 7,
      "outputs": [
        {
          "name": "stdout",
          "output_type": "stream",
          "text": [
            "Enter your name here Mahad Zahid\n"
          ]
        },
        {
          "output_type": "execute_result",
          "data": {
            "text/plain": [
              "' Mahad Zahid'"
            ],
            "application/vnd.google.colaboratory.intrinsic+json": {
              "type": "string"
            }
          },
          "metadata": {},
          "execution_count": 7
        }
      ]
    },
    {
      "cell_type": "markdown",
      "metadata": {
        "id": "48gz8w2YWOmr"
      },
      "source": [
        "### Exercise 2 - using input\n",
        "---\n",
        "Create an input that asks for the user's name, stores it in a variable called name, then will `print` it\n",
        "\n",
        "**Test Input**  \n",
        "Marianne\n",
        "\n",
        "**Expected Output**  \n",
        "Marianne"
      ]
    },
    {
      "cell_type": "markdown",
      "metadata": {
        "id": "2IekvaC6WNzi"
      },
      "source": [
        "### Exercise 2 - using input\n",
        "---\n",
        "Create an input that asks for the user's name, stores it in a variable called name, then will `print` it\n",
        "\n",
        "**Test Input**  \n",
        "Marianne\n",
        "\n",
        "**Expected Output**  \n",
        "Marianne"
      ]
    },
    {
      "cell_type": "markdown",
      "metadata": {
        "id": "oXpvEknHbZvz"
      },
      "source": [
        "### Exercise 3 - operators, datatypes and input\n",
        "---\n",
        "\n",
        "Create 2 variables called **num1** and **num2** which each get their values from an input function which asks for a whole number and stores it as an integer\n",
        "\n",
        "Create a third variable called **num3** which adds **num1** and **num2** together\n",
        "\n",
        "**Test Input**  \n",
        "11  \n",
        "22  \n",
        "\n",
        "**Expected Output**  \n",
        "33\n"
      ]
    },
    {
      "cell_type": "code",
      "metadata": {
        "id": "WVnfbWjdcJPD"
      },
      "source": [],
      "execution_count": null,
      "outputs": []
    },
    {
      "cell_type": "markdown",
      "metadata": {
        "id": "EDPftM6dcJzK"
      },
      "source": [
        "### Exercise 4 - using if/else\n",
        "---\n",
        "\n",
        "Create variables to hold two inputed integers (you did this in the previous exercise). Create a third variable to hold the sum of the two integers. Then, if the answer is between 15 to 20 print 20, else return the correct answer\n",
        "\n",
        "**Test Input**  \n",
        "3  \n",
        "15  \n",
        "\n",
        "**Expected Output**  \n",
        "20"
      ]
    },
    {
      "cell_type": "code",
      "metadata": {
        "id": "JPXearXfdPZS"
      },
      "source": [],
      "execution_count": null,
      "outputs": []
    },
    {
      "cell_type": "markdown",
      "metadata": {
        "id": "c7hKrWgIdPrr"
      },
      "source": [
        "### Exercise 5 - using for loops\n",
        "---\n",
        "`Print` each letter of the string \"supercalifragilistic\" using a `for` loop\n",
        "\n",
        "**Expected Output**   \n",
        "s  \n",
        "u  \n",
        "p  \n",
        "e  \n",
        "r  \n",
        "c  \n",
        "a  \n",
        "l  \n",
        "i  \n",
        "f  \n",
        "r  \n",
        "a  \n",
        "g  \n",
        "i  \n",
        "l  \n",
        "i  \n",
        "s  \n",
        "t  \n",
        "i  \n",
        "c  "
      ]
    },
    {
      "cell_type": "code",
      "metadata": {
        "id": "bxE5C2jYdg2w"
      },
      "source": [],
      "execution_count": null,
      "outputs": []
    },
    {
      "cell_type": "markdown",
      "metadata": {
        "id": "Bf_wev6UdhPH"
      },
      "source": [
        "### Exercise 6 - using while loops\n",
        "---\n",
        "Write a program that asks the user to enter a positive number.\n",
        "`if` the number entered is not positive (ie it is less than 0) the user will be shown an error message and asked to enter the number again. `if` a positive number is entered, the program should print \"Thankyou, goodbye\"\n",
        "\n",
        "**Test Input**   \n",
        "-1   \n",
        "4\n",
        "\n",
        "\n",
        "**Expected Output**  \n",
        "Error   \n",
        "Thankyou, goodbye"
      ]
    },
    {
      "cell_type": "code",
      "metadata": {
        "id": "muSpMY4vdtfD"
      },
      "source": [],
      "execution_count": null,
      "outputs": []
    },
    {
      "cell_type": "markdown",
      "metadata": {
        "id": "Q-drRJ2kdt4g"
      },
      "source": [
        "### Exercise 7 - lists and using list functions\n",
        "---\n",
        "The `list.sort()` function will sort a list.\n",
        "Create a list of 5 numbers and use the sorted function to sort them, storing the sorted list in a variabled called **sorted_list**\n",
        "\n",
        "**Test Input**  \n",
        "[1, 87, -1, 8, 21]\n",
        "\n",
        "**Expected Output**  \n",
        "[-1, 1, 8, 21, 87]"
      ]
    },
    {
      "cell_type": "code",
      "metadata": {
        "id": "W4MxMJ1ieGqe"
      },
      "source": [],
      "execution_count": null,
      "outputs": []
    },
    {
      "cell_type": "markdown",
      "metadata": {
        "id": "ZL0wbkQPeG6j"
      },
      "source": [
        "### Exercise 8 - dictionaries\n",
        "---\n",
        "Create an empty **dictionary** for a person (name, age and postcode). Read a person's details using the `input()` function and store them in your dictionary.\n",
        "\n",
        "Make sure that the entered age is a number (you could write a while loop to do this)\n",
        "\n",
        "Print the dictionary.  \n",
        "\n",
        "**Test Input**  \n",
        "Dave  \n",
        "24  \n",
        "SE11AB  \n",
        "\n",
        "**Expected Output**  \n",
        "{'name': 'Dave', 'age': 24, 'postcode': 'SE11AB'}"
      ]
    },
    {
      "cell_type": "code",
      "metadata": {
        "id": "jZc7zRAkeglf"
      },
      "source": [
        "\n"
      ],
      "execution_count": null,
      "outputs": []
    },
    {
      "cell_type": "markdown",
      "metadata": {
        "id": "lpT0N5HqehHK"
      },
      "source": [
        "### Exercise 9 - functions, lists and loops\n",
        "---\n",
        "Write a function to create and `print` a list where the values are squares of numbers between 1 and 30 (both included).\n",
        "\n",
        "**Expected Output**  \n",
        "[0, 1, 4, 9, 16, 25, 36, 49, 64, 81, 100, 121, 144, 169, 196, 225, 256, 289, 324, 361, 400, 441, 484, 529, 576, 625, 676, 729, 784, 841, 900]\n"
      ]
    },
    {
      "cell_type": "code",
      "metadata": {
        "id": "_h6r0hAce7ro"
      },
      "source": [],
      "execution_count": null,
      "outputs": []
    },
    {
      "cell_type": "markdown",
      "metadata": {
        "id": "GPoXDPh2e8LB"
      },
      "source": [
        "### Exercise 10 - functions\n",
        "---\n",
        "Create one function called **show_mood** that will take a current mood as a **parameter** of the function and will `return` a sentence in the following format: \"Today, I am feeling {mood}\". However, `if` an empty string is passed, it will `return` \"Today, I am feeling neutral\".\n",
        "\n",
        "**Test input**  \n",
        "show_mood(\"happy\")    \n",
        "show_mood(\"sad\")  \n",
        "show_mood(\"\")   \n",
        "\n",
        "**Expected output**  \n",
        "\"Today, I am feeling happy\"  \n",
        "\"Today, I am feeling sad\"  \n",
        "\"Today, I am feeling neutral\"   \n",
        "\n"
      ]
    },
    {
      "cell_type": "code",
      "metadata": {
        "id": "SvF1CessfoqC"
      },
      "source": [],
      "execution_count": null,
      "outputs": []
    },
    {
      "cell_type": "markdown",
      "metadata": {
        "id": "9U9rREgKumh1"
      },
      "source": [
        "### OPTIONAL Challenge\n",
        "---\n",
        "Copy and modify the function called **show_mood** so that it will take a current mood as a **parameter** of the function and will `return` a sentence in the following format: \"Today, I am feeling {mood}\". **However, if *no argument* is passed, it will assume that the mood is neutral**.\n",
        "\n",
        "**Test input**  \n",
        "show_mood(\"happy\")    \n",
        "show_mood(\"sad\")  \n",
        "show_mood()   \n",
        "\n",
        "**Expected output**  \n",
        "\"Today, I am feeling happy\"  \n",
        "\"Today, I am feeling sad\"  \n",
        "\"Today, I am feeling neutral\"   "
      ]
    },
    {
      "cell_type": "code",
      "metadata": {
        "id": "B2fYBD0Ouw2E"
      },
      "source": [],
      "execution_count": null,
      "outputs": []
    }
  ]
}